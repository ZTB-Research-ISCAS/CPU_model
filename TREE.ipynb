{
 "cells": [
  {
   "cell_type": "code",
   "execution_count": 23,
   "metadata": {},
   "outputs": [],
   "source": [
    "import lightgbm as lgb\n",
    "import pandas as pd\n",
    "import numpy as np"
   ]
  },
  {
   "cell_type": "code",
   "execution_count": 24,
   "metadata": {},
   "outputs": [],
   "source": [
    "data = pd.read_excel('result.xlsx')"
   ]
  },
  {
   "cell_type": "code",
   "execution_count": 25,
   "metadata": {},
   "outputs": [],
   "source": [
    "data = data.fillna(0)\n",
    "data = data[data['功耗（wh）']!=0]\n",
    "train_y = data['功耗（wh）']\n",
    "data = data.drop(['Program','average power', '功耗（wh）'], axis = 1)"
   ]
  },
  {
   "cell_type": "code",
   "execution_count": 18,
   "metadata": {},
   "outputs": [],
   "source": [
    "lgb_train = lgb.Dataset(data, train_y)"
   ]
  },
  {
   "cell_type": "code",
   "execution_count": 28,
   "metadata": {},
   "outputs": [
    {
     "name": "stdout",
     "output_type": "stream",
     "text": [
      "Hyper-parameters:\n",
      "{'boosting_type': 'gbdt', 'metric': 'logloss', 'ndcg_eval_at': [1, 5], 'max_bin': 255, 'num_trees': 100, 'learning_rate': 0.00836541852418512, 'num_leaves': 21, 'tree_learner': 'serial', 'bagging_freq': 1, 'bagging_fraction': 0.9, 'min_data_in_leaf': 0, 'min_sum_hessian_in_leaf': 0, 'is_enable_sparse': 'true', 'is_save_binary_file': 'false', 'max_depth': 3}\n"
     ]
    }
   ],
   "source": [
    "params = {\n",
    "        'boosting_type' : np.random.choice(['dart', 'gbdt']) ,\n",
    "        'metric' : 'logloss' ,\n",
    "        'ndcg_eval_at' : [1,5] ,\n",
    "    #    'metric_freq' : 1 ,\n",
    "    #    'is_training_metric' : 'true' ,\n",
    "        'max_bin' : 255 ,\n",
    "    #    'data' : 'REPLACEPREFIX_REPLACEHERE.train' ,\n",
    "    #    'valid_data' : 'REPLACEPREFIX_REPLACEHERE.train' ,\n",
    "        'num_trees' : 100 ,\n",
    "        'learning_rate' : np.random.rand()*0.3,\n",
    "        'num_leaves' : np.random.randint(10, 32),\n",
    "        'tree_learner' : 'serial' ,\n",
    "    #    'feature_fraction' : np.random.rand()*0.35+0.65,\n",
    "        'bagging_freq' : 1,\n",
    "        'bagging_fraction' : 0.9 ,\n",
    "        'min_data_in_leaf' : 0 ,\n",
    "        'min_sum_hessian_in_leaf' : 0 ,\n",
    "        'is_enable_sparse' : 'true' ,\n",
    "    #    'use_two_round_loading' : 'true' ,\n",
    "        'is_save_binary_file' : 'false' ,\n",
    "    #    'output_model' : 'LightGBM_model_REPLACEHERE_default.txt' ,\n",
    "    #    'num_machines' : 1 ,\n",
    "    #    'local_listen_port' : 12400 ,\n",
    "    #    'machine_list_file' : 'mlist.txt'\n",
    "    #    'lambda_l1': 0 ** (np.random.rand() * 4),\n",
    "    #    'lambda_l2': 0 ** (np.random.rand() * 3 + 2),\n",
    "        'max_depth': np.random.randint(2, 5),\n",
    "    #    'min_gain_to_split': 0.0,\n",
    "    }\n",
    "print('Hyper-parameters:')\n",
    "print(params)\n",
    "\n",
    "evals_result = {}"
   ]
  },
  {
   "cell_type": "code",
   "execution_count": 29,
   "metadata": {},
   "outputs": [
    {
     "name": "stderr",
     "output_type": "stream",
     "text": [
      "/Library/Frameworks/Python.framework/Versions/3.6/lib/python3.6/site-packages/lightgbm/engine.py:113: UserWarning: Found `num_trees` in params. Will use it instead of argument\n",
      "  warnings.warn(\"Found `{}` in params. Will use it instead of argument\".format(alias))\n"
     ]
    }
   ],
   "source": [
    "gbm = lgb.train(params,\n",
    "                lgb_train,\n",
    "                valid_sets=[lgb_train],\n",
    "                valid_names = ['train'],\n",
    "                evals_result=evals_result)"
   ]
  },
  {
   "cell_type": "code",
   "execution_count": null,
   "metadata": {},
   "outputs": [],
   "source": []
  }
 ],
 "metadata": {
  "kernelspec": {
   "display_name": "Python 3",
   "language": "python",
   "name": "python3"
  },
  "language_info": {
   "codemirror_mode": {
    "name": "ipython",
    "version": 3
   },
   "file_extension": ".py",
   "mimetype": "text/x-python",
   "name": "python",
   "nbconvert_exporter": "python",
   "pygments_lexer": "ipython3",
   "version": "3.6.5"
  }
 },
 "nbformat": 4,
 "nbformat_minor": 2
}
